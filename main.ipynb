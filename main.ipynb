{
 "cells": [
  {
   "cell_type": "code",
   "execution_count": null,
   "metadata": {},
   "outputs": [],
   "source": [
    "# Quang task"
   ]
  },
  {
   "cell_type": "code",
   "execution_count": null,
   "metadata": {},
   "outputs": [],
   "source": [
    "# Quan task\n",
    "import numpy as np\n",
    "import os\n",
    "import cv2\n",
    "from keras.datasets import mnist\n",
    "from sklearn import neighbors, metrics, svm\n",
    "from sklearn.model_selection import train_test_split\n",
    "import matplotlib.pyplot as plt"
   ]
  },
  {
   "cell_type": "code",
   "execution_count": null,
   "metadata": {},
   "outputs": [],
   "source": [
    "X_test = []\n",
    "y_test = []\n",
    "kernel = np.ones((5, 5), np.uint8)\n",
    "path = \"/content/drive/MyDrive/digits\"\n",
    "for name in os.listdir(path):\n",
    "    path_numbers = path + \"/\" + name\n",
    "    for img_name in os.listdir(path_numbers):\n",
    "        img = cv2.imread(path_numbers + \"/\" + img_name)\n",
    "        img_gray = cv2.cvtColor(img, cv2.COLOR_BGR2GRAY)\n",
    "        img_gray = cv2.resize(img_gray, (280, 280))\n",
    "        _, thresh2 = cv2.threshold(img_gray, 130, 255, cv2.THRESH_BINARY_INV)\n",
    "        img_ss2 = cv2.dilate(thresh2, kernel, iterations = 4)\n",
    "        img_ss2 = cv2.erode(img_ss2, kernel, iterations = 1)\n",
    "        closing = cv2.morphologyEx(img_ss2, cv2.MORPH_CLOSE, kernel, iterations = 2)\n",
    "        closing = cv2.dilate(closing, kernel, iterations = 1)\n",
    "        img_reshape = cv2.resize(closing, (28, 28))\n",
    "        X_number = np.array(img_reshape).reshape((784))\n",
    "        X_test.append(X_number)\n",
    "        y_test.append(int(name))\n",
    "X_test = np.array(X_test)\n",
    "y_test = np.array(y_test)"
   ]
  },
  {
   "cell_type": "code",
   "execution_count": null,
   "metadata": {},
   "outputs": [],
   "source": [
    "print(X_test.shape)\n",
    "print(y_test.shape)"
   ]
  },
  {
   "cell_type": "code",
   "execution_count": null,
   "metadata": {},
   "outputs": [],
   "source": [
    "(X_train, y_train), (a, b) = mnist.load_data()\n",
    "# a = a.reshape((10000, 784))\n",
    "X_train = np.concatenate((X_train, a), axis = 0)\n",
    "y_train = np.concatenate((y_train, b), axis = 0)\n",
    "X_train_knn = X_train.reshape((70000, 784))\n",
    "print(X_train_knn.shape)\n",
    "print(y_train.shape)"
   ]
  },
  {
   "cell_type": "code",
   "execution_count": null,
   "metadata": {},
   "outputs": [],
   "source": [
    "clf = neighbors.KNeighborsClassifier(n_neighbors = 3, p = 2)\n",
    "clf.fit(X_train_knn,y_train)\n",
    "y_predict = clf.predict(X_test)\n",
    "print(metrics.accuracy_score(y_test, y_predict))\n",
    "print(y_test)\n",
    "print(y_predict)"
   ]
  },
  {
   "cell_type": "code",
   "execution_count": null,
   "metadata": {},
   "outputs": [],
   "source": [
    "!pip install tensorflow"
   ]
  },
  {
   "cell_type": "code",
   "execution_count": null,
   "metadata": {},
   "outputs": [],
   "source": [
    "from tensorflow.keras import Sequential\n",
    "from tensorflow.keras.layers import Dense, Conv2D, Flatten, MaxPooling2D, Dropout\n",
    "from tensorflow.keras import activations\n",
    "from tensorflow.keras.utils import to_categorical"
   ]
  },
  {
   "cell_type": "code",
   "execution_count": null,
   "metadata": {},
   "outputs": [],
   "source": [
    "X_train_cnn = np.reshape(X_train, (70000, 28, 28, 1))\n",
    "X_test_cnn = np.reshape(X_test, (120, 28, 28, 1))\n",
    "y_train_cnn = to_categorical(y_train)\n",
    "y_test_cnn = to_categorical(y_test)"
   ]
  },
  {
   "cell_type": "code",
   "execution_count": null,
   "metadata": {},
   "outputs": [],
   "source": [
    "model = Sequential()\n",
    "\n",
    "model.add(Conv2D(32, (5,5), activation = activations.relu, padding = 'same', input_shape = (28, 28, 1)))\n",
    "model.add(Conv2D(32, (5,5), activation = activations.relu, padding = 'same', input_shape = (28, 28, 1)))\n",
    "model.add(MaxPooling2D((2,2), strides = 2))\n",
    "model.add(Dropout(0.25))\n",
    "\n",
    "model.add(Conv2D(64, (3,3), activation = activations.relu, padding = 'same', input_shape = (28, 28, 1)))\n",
    "model.add(Conv2D(64, (3,3), activation = activations.relu, padding = 'same', input_shape = (28, 28, 1)))\n",
    "model.add(MaxPooling2D((2,2), strides = (2,2)))\n",
    "model.add(Dropout(0.25))\n",
    "\n",
    "model.add(Flatten())\n",
    "model.add(Dense(256, activation = activations.relu))\n",
    "model.add(Dropout(0.25))\n",
    "model.add(Dense(10, activation = activations.softmax))\n",
    "\n",
    "model.summary()\n",
    "# fit model\n",
    "model.compile(optimizer = 'adam', loss = 'categorical_crossentropy', metrics = 'accuracy')\n",
    "epoch = 30\n",
    "batch_size = 112"
   ]
  },
  {
   "cell_type": "code",
   "execution_count": null,
   "metadata": {},
   "outputs": [],
   "source": [
    "# Trinh task"
   ]
  },
  {
   "attachments": {},
   "cell_type": "markdown",
   "metadata": {},
   "source": [
    "# Import lib"
   ]
  },
  {
   "cell_type": "code",
   "execution_count": null,
   "metadata": {},
   "outputs": [],
   "source": [
    "import numpy as np\n",
    "import matplotlib.pyplot as plt"
   ]
  },
  {
   "attachments": {},
   "cell_type": "markdown",
   "metadata": {},
   "source": [
    "# Confusion matrix"
   ]
  },
  {
   "cell_type": "code",
   "execution_count": null,
   "metadata": {},
   "outputs": [],
   "source": []
  },
  {
   "attachments": {},
   "cell_type": "markdown",
   "metadata": {},
   "source": [
    "# Kiểm tra kết quả sai"
   ]
  },
  {
   "cell_type": "code",
   "execution_count": 1,
   "metadata": {},
   "outputs": [],
   "source": [
    "# Hiển thị các ảnh bị dự đoán sai kèm theo nhãn dự đoán\n",
    "rowShow = 3 \n",
    "figWidthShow = 18\n",
    "subFigHeightShow = 3\n",
    "\n",
    "def showRawImg_ExtractedData_Labels(rawImgs, extractedDatas, actLabels, predLabels):\n",
    "    itemCount = len(actLabels)\n",
    "\n",
    "    rowCount = itemCount // rowShow + 1 if itemCount % rowShow else itemCount // rowShow\n",
    "    figSizeShow = (figWidthShow, subFigHeightShow * rowCount) # số đầu là chiều ngang, sau: chiều dọc\n",
    "\n",
    "\n",
    "\n",
    "    fig, axes = plt.subplots( itemCount // rowShow + 1 if itemCount % rowShow else itemCount // rowShow, rowShow * 3, figsize=figSizeShow)\n",
    "    # fig, axes = plt.subplots( itemCount // rowShow + 1 if itemCount % rowShow else itemCount // rowShow, rowShow * 3)\n",
    "    print(rowShow * 3, itemCount // rowShow + 1 if itemCount % rowShow else itemCount // rowShow)\n",
    "    # rawImgs, extractedDatas, labels\n",
    "    for i in range(itemCount):\n",
    "        _x = i // rowShow # số hàng\n",
    "        _y = i % rowShow # số cột\n",
    "\n",
    "        # show raw img\n",
    "        ax = axes[_x, _y * 3]\n",
    "        ax.imshow(rawImgs[i], cmap='gray')\n",
    "        # ax.imshow(rawImgs[i], cmap='gray', aspect='auto')\n",
    "\n",
    "        # show extracted img\n",
    "        ax = axes[_x, _y * 3 + 1]\n",
    "        ax.imshow(extractedDatas[i], cmap='gray')\n",
    "        # show label\n",
    "        ax = axes[_x, _y * 3 + 2]\n",
    "        # ax.text(0.5, 0.5, 'Predicted: {} \\n Actual: {}'.format(actLabels[i], predLabels[i]), ha='left', va='center', fontsize=20)\n",
    "        ax.text(0.5, 0.5, 'Actual: {} \\n Predicted: {}'.format(predLabels[i],actLabels[i]), ha='center', va='center', fontsize=20)\n",
    "        ax.axis('off')\n",
    "    # xoá mấy cái cạnh ở cuối\n",
    "    for i in range(itemCount % rowShow, rowShow):\n",
    "        _y = i % rowShow # số cột\n",
    "        for j in range(3):\n",
    "            ax = axes[rowCount - 1, _y * 3 + j]\n",
    "            ax.axis('off')\n",
    "\n",
    "    plt.tight_layout()\n",
    "    plt.show()"
   ]
  },
  {
   "cell_type": "code",
   "execution_count": null,
   "metadata": {},
   "outputs": [],
   "source": [
    "def showRawImg_ExtractedData_Labels_N(rawImgs, extractedDatas, actLabels, predLabels, index):\n",
    "    showRawImg_ExtractedData_Labels(\n",
    "        x_test[index], \n",
    "        x_test[index], \n",
    "        y_test[index], \n",
    "        y_pred[index])"
   ]
  },
  {
   "cell_type": "code",
   "execution_count": null,
   "metadata": {},
   "outputs": [],
   "source": [
    "misclassified_indices = np.where(y_pred != y_test)[0]\n",
    "\n",
    "showRawImg_ExtractedData_Labels_N(x_test, x_test, y_test, y_pred, misclassified_indices[10:50])"
   ]
  }
 ],
 "metadata": {
  "kernelspec": {
   "display_name": "Python 3",
   "language": "python",
   "name": "python3"
  },
  "language_info": {
   "codemirror_mode": {
    "name": "ipython",
    "version": 3
   },
   "file_extension": ".py",
   "mimetype": "text/x-python",
   "name": "python",
   "nbconvert_exporter": "python",
   "pygments_lexer": "ipython3",
   "version": "3.10.1"
  },
  "orig_nbformat": 4
 },
 "nbformat": 4,
 "nbformat_minor": 2
}
