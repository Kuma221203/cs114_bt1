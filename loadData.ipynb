{
 "cells": [
  {
   "cell_type": "code",
   "execution_count": null,
   "metadata": {},
   "outputs": [],
   "source": [
    "import os\n",
    "\n",
    "# Đường dẫn đến file txt chứa danh sách URL cần clone\n",
    "file_path = 'C:\\\\Users\\\\quang\\\\Desktop\\\\cs114\\\\pathgit.txt'\n",
    "\n",
    "# Kiểm tra xem file tồn tại hay không\n",
    "if not os.path.isfile(file_path):\n",
    "    print(\"File không tồn tại.\")\n",
    "    exit()\n",
    "\n",
    "# Đọc nội dung của file\n",
    "with open(file_path, \"r\") as file:\n",
    "    lines = file.readlines()\n",
    "\n",
    "# Loại bỏ ký tự newline ('\\n') khỏi mỗi dòng\n",
    "lines = [line.strip() for line in lines]\n",
    "lines\n",
    "# Thực hiện git clone cho từng dòng trong file\n",
    "# for line in lines:\n",
    "#     os.system(\"git clone \" + line)\n"
   ]
  },
  {
   "cell_type": "code",
   "execution_count": 31,
   "metadata": {},
   "outputs": [],
   "source": [
    "import os\n",
    "import shutil\n",
    "\n",
    "def rename_images(folder_path, new_name_prefix):\n",
    "    # Lặp qua tất cả các file trong thư mục\n",
    "    for filename in os.listdir(folder_path):\n",
    "        # Kiểm tra nếu đây là file ảnh\n",
    "        if filename.endswith(('.jpg', '.jpeg', '.png', '.gif')):\n",
    "            # Tạo đường dẫn cũ và mới cho file\n",
    "            old_path = os.path.join(folder_path, filename)\n",
    "            new_name = new_name_prefix + '_' + filename\n",
    "            new_path = os.path.join(folder_path, new_name)\n",
    "            \n",
    "            # Đổi tên file\n",
    "            os.rename(old_path, new_path)\n",
    "            \n",
    "            # In ra thông báo sau khi đổi tên thành công\n",
    "            # print(f\"Đã đổi tên file {filename} thành {new_name}\")\n"
   ]
  },
  {
   "cell_type": "code",
   "execution_count": 30,
   "metadata": {},
   "outputs": [],
   "source": [
    "import os\n",
    "import shutil\n",
    "def movefile(source_folder,destination_folder):\n",
    "    # Lặp qua tất cả các file trong thư mục gốc\n",
    "    for filename in os.listdir(source_folder):\n",
    "        source_path = os.path.join(source_folder, filename)  # Đường dẫn đầy đủ của file gốc\n",
    "        # destination_path = os.path.join(destination_folder, filename)  # Đường dẫn đầy đủ của file đích\n",
    "        shutil.move(source_path, destination_folder)  # Chuyển file\n",
    "        # print(source_path,destination_folder)\n",
    "\n"
   ]
  },
  {
   "cell_type": "code",
   "execution_count": 38,
   "metadata": {},
   "outputs": [],
   "source": []
  },
  {
   "cell_type": "code",
   "execution_count": 48,
   "metadata": {},
   "outputs": [],
   "source": [
    "pathde=\"C:\\\\Users\\\\quang\\\\Desktop\\\\cs114\\\\Datasets\\\\HandwrittenDigitDataset\\\\hand_written_digits\\\\\"\n",
    "for i in range(0,10):\n",
    "    rename_images(pathde+str(i),\"14\")\n",
    "for i in range(0,10):\n",
    "    movefile(pathde+str(i),\"C:\\\\Users\\\\quang\\\\Desktop\\\\cs114\\\\Datasets\\\\\"+str(i))"
   ]
  }
 ],
 "metadata": {
  "kernelspec": {
   "display_name": "Python 3",
   "language": "python",
   "name": "python3"
  },
  "language_info": {
   "codemirror_mode": {
    "name": "ipython",
    "version": 3
   },
   "file_extension": ".py",
   "mimetype": "text/x-python",
   "name": "python",
   "nbconvert_exporter": "python",
   "pygments_lexer": "ipython3",
   "version": "3.10.6"
  },
  "orig_nbformat": 4
 },
 "nbformat": 4,
 "nbformat_minor": 2
}
